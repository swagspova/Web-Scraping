{
 "cells": [
  {
   "cell_type": "code",
   "execution_count": 1,
   "id": "b1176e6d-a295-4d65-9049-514f8f63913c",
   "metadata": {},
   "outputs": [
    {
     "name": "stdout",
     "output_type": "stream",
     "text": [
      "Requirement already satisfied: requests in c:\\users\\ghosh\\anaconda3\\lib\\site-packages (2.31.0)\n",
      "Requirement already satisfied: charset-normalizer<4,>=2 in c:\\users\\ghosh\\anaconda3\\lib\\site-packages (from requests) (2.0.4)\n",
      "Requirement already satisfied: idna<4,>=2.5 in c:\\users\\ghosh\\anaconda3\\lib\\site-packages (from requests) (3.4)\n",
      "Requirement already satisfied: urllib3<3,>=1.21.1 in c:\\users\\ghosh\\anaconda3\\lib\\site-packages (from requests) (1.26.18)\n",
      "Requirement already satisfied: certifi>=2017.4.17 in c:\\users\\ghosh\\anaconda3\\lib\\site-packages (from requests) (2023.11.17)\n"
     ]
    }
   ],
   "source": [
    "!pip install requests"
   ]
  },
  {
   "cell_type": "code",
   "execution_count": 50,
   "id": "b3880ffa-2007-447a-ad8b-7d125bf95608",
   "metadata": {},
   "outputs": [],
   "source": [
    "from bs4 import BeautifulSoup\n",
    "import requests\n",
    "import time"
   ]
  },
  {
   "cell_type": "code",
   "execution_count": 53,
   "id": "39264b6e-b9b1-48d4-9897-d2e73887c3ce",
   "metadata": {},
   "outputs": [
    {
     "name": "stdout",
     "output_type": "stream",
     "text": [
      "Input some skills that you are not familiar with\n"
     ]
    },
    {
     "name": "stdin",
     "output_type": "stream",
     "text": [
      "> bank\n"
     ]
    },
    {
     "name": "stdout",
     "output_type": "stream",
     "text": [
      "Filtering out bank\n",
      "File Saved: 0\n",
      "File Saved: 1\n",
      "File Saved: 3\n",
      "File Saved: 4\n",
      "File Saved: 5\n",
      "File Saved: 6\n",
      "File Saved: 7\n",
      "File Saved: 8\n",
      "File Saved: 9\n",
      "File Saved: 10\n",
      "File Saved: 11\n",
      "File Saved: 12\n",
      "File Saved: 13\n",
      "File Saved: 14\n",
      "File Saved: 15\n",
      "File Saved: 16\n",
      "File Saved: 17\n",
      "File Saved: 18\n",
      "File Saved: 19\n",
      "File Saved: 20\n",
      "File Saved: 21\n",
      "File Saved: 22\n",
      "File Saved: 23\n",
      "File Saved: 24\n"
     ]
    }
   ],
   "source": [
    "print('Input some skills that you are not familiar with')\n",
    "unfamiliar_skill = input('>')\n",
    "print(f'Filtering out {unfamiliar_skill}')\n",
    "\n",
    "html_text = requests.get('https://www.timesjobs.com/candidate/job-search.html?searchType=Home_Search&from=submit&asKey=OFF&txtKeywords=&cboPresFuncArea=42').text\n",
    "    \n",
    "soup = BeautifulSoup(html_text, 'lxml')\n",
    "jobs = soup.find_all('li', class_ = 'clearfix job-bx wht-shd-bx')\n",
    "    \n",
    "for index, job in enumerate(jobs):\n",
    "    published_date = job.find('span', class_ = 'sim-posted').text.replace(' ','').strip()\n",
    "    company_name = job.find('h3', class_ = 'joblist-comp-name').text.replace(' ','').replace('(MoreJobs)','').strip()\n",
    "    skills = job.find('span', class_ = 'srp-skills').text.replace(' ','').strip()\n",
    "    more_info = job.header.h2.a['href']\n",
    "    if unfamiliar_skill not in skills:\n",
    "        with open(f'Downloads/{index}.txt', 'w') as f:\n",
    "            f.write(f'Company Name: {company_name}')\n",
    "            f.write(f'Required Skills: {skills}')\n",
    "            f.write(f'Link: {more_info}')\n",
    "        print(f'File Saved: {index}')"
   ]
  },
  {
   "cell_type": "code",
   "execution_count": null,
   "id": "512a8b92-d91e-4a45-8a20-ebb29f60a5ee",
   "metadata": {},
   "outputs": [],
   "source": []
  }
 ],
 "metadata": {
  "kernelspec": {
   "display_name": "Python 3 (ipykernel)",
   "language": "python",
   "name": "python3"
  },
  "language_info": {
   "codemirror_mode": {
    "name": "ipython",
    "version": 3
   },
   "file_extension": ".py",
   "mimetype": "text/x-python",
   "name": "python",
   "nbconvert_exporter": "python",
   "pygments_lexer": "ipython3",
   "version": "3.11.5"
  }
 },
 "nbformat": 4,
 "nbformat_minor": 5
}
